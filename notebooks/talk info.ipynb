{
 "cells": [
  {
   "cell_type": "markdown",
   "metadata": {},
   "source": [
    "~~Donalk Knuth quotes:\n",
    "http://en.m.wikiquote.org/wiki/Donald_Knuth~~\n",
    "\n",
    "pandas is a hammer - everything is a nail\n",
    "developer perf, compute perf , memory perf\n",
    "\n",
    "\n",
    "~~balance: runtime, space, implementation time, maintainability, readability~~\n"
   ]
  },
  {
   "cell_type": "markdown",
   "metadata": {},
   "source": [
    "\n",
    "\n",
    "\n",
    "repeated appending \n",
    "insert columns\n",
    "date parsing \n",
    "get dtypes right\n",
    "object vs float\n",
    "tz are object\n",
    "\n",
    "bottlenecks / query / cython/ numbs\n",
    "\n",
    "perf vs api - indexing\n",
    "\n",
    ".values\n"
   ]
  },
  {
   "cell_type": "markdown",
   "metadata": {},
   "source": [
    "\n",
    "Converting string date to epoch time not working with Cython and POSIX C libraries \n",
    "http://stackoverflow.com/questions/30330428/converting-string-date-to-epoch-time-not-working-with-cython-and-posix-c-librari/30336065#30336065\n",
    "\n",
    "Memory leak in Pandas.groupby.apply()? \n",
    "http://stackoverflow.com/questions/25130839/memory-leak-in-pandas-groupby-apply/25138023#25138023\n",
    "\n",
    "unique values in a pandas dataframe \n",
    "http://stackoverflow.com/questions/20084382/unique-values-in-a-pandas-dataframe/20084895#20084895\n",
    "\n",
    "HDF5 - concurrency, compression & I/O performance\n",
    "http://stackoverflow.com/questions/16628329/hdf5-concurrency-compression-i-o-performance/16629243#16629243\n",
    "\n",
    "Pandas: reshaping data \n",
    "http://stackoverflow.com/questions/16637171/pandas-reshaping-data/16637607#16637607\n",
    "\n",
    "Calculate time difference between Pandas Dataframe indices \n",
    "http://stackoverflow.com/questions/16777570/calculate-time-difference-between-pandas-dataframe-indices/16780413#16780413\n",
    "\n",
    "python/pandas: how to combine two dataframes into one with hierarchical column index? \n",
    "http://stackoverflow.com/questions/15989281/python-pandas-how-to-combine-two-dataframes-into-one-with-hierarchical-column-i/15990537#15990537\n",
    "\n",
    "How to speed up Pandas multilevel dataframe sum? \n",
    "http://stackoverflow.com/questions/17390886/how-to-speed-up-pandas-multilevel-dataframe-sum/17394064#17394064\n",
    "\n",
    "python pandas, DF.groupby().agg(), column reference in agg() \n",
    "http://stackoverflow.com/questions/15322632/python-pandas-df-groupby-agg-column-reference-in-agg/15322920#15322920\n",
    "\n",
    "Pandas sort by group aggregate and column \n",
    "http://stackoverflow.com/questions/14941366/pandas-sort-by-group-aggregate-and-column\n",
    "\n",
    "Calculating the number of specific consecutive equal values in a vectorized way in pandas \n",
    "http://stackoverflow.com/questions/29142487/calculating-the-number-of-specific-consecutive-equal-values-in-a-vectorized-way\n",
    "\n",
    "Cookbook — pandas 0.16.1 documentation \n",
    "http://pandas.pydata.org/pandas-docs/stable/cookbook.html#grouping\n",
    "\n",
    "http://stackoverflow.com/questions/24010830/pandas-generate-sequential-timestamp-with-jump/24014440#24014440?\n",
    " \n",
    "Grouping daily data by month in python/pandas and then normalising\n",
    "http://stackoverflow.com/questions/18677271/grouping-daily-data-by-month-in-python-pandas-and-then-normalising\n",
    "\n",
    "Cookbook — pandas 0.16.1 documentation \n",
    "http://pandas.pydata.org/pandas-docs/stable/cookbook.html#csv\n",
    "\n",
    "Appending Column to Frame of HDF File in Pandas \n",
    "http://stackoverflow.com/questions/20428355/appending-column-to-frame-of-hdf-file-in-pandas/20428786#20428786\n",
    "\n"
   ]
  },
  {
   "cell_type": "markdown",
   "metadata": {},
   "source": [
    "Apply taking forever\n",
    "http://stackoverflow.com/questions/29063338/python-pandas-apply-taking-forever/29063705#29063705\n",
    "\n",
    "complexity of using argsort (in apply) vs vectorized\n",
    "http://stackoverflow.com/questions/30744308/how-to-add-order-within-group-column-in-pandas"
   ]
  },
  {
   "cell_type": "markdown",
   "metadata": {},
   "source": [
    "http://stackoverflow.com/questions/7837722/what-is-the-most-efficient-way-to-loop-through-dataframes-with-pandas\n",
    "\n",
    "http://stackoverflow.com/questions/22290793/fill-na-values-in-pandas-series-with-a-stop \n",
    "\n",
    "http://stackoverflow.com/questions/30412422/pandas-column-operation-with-dates/30417519#30417519\n",
    "\n",
    "idioms\n",
    "\n",
    "http://stackoverflow.com/questions/30465551/pandas-split-column-into-two-and-get-name-suffix-error"
   ]
  },
  {
   "cell_type": "markdown",
   "metadata": {},
   "source": [
    "http://stackoverflow.com/questions/30784493/convert-index-to-datetime-in-pandas-using-customized-parsing-function/30785179#30785179"
   ]
  }
 ],
 "metadata": {
  "kernelspec": {
   "display_name": "Python 2",
   "language": "python",
   "name": "python2"
  },
  "language_info": {
   "codemirror_mode": {
    "name": "ipython",
    "version": 2
   },
   "file_extension": ".py",
   "mimetype": "text/x-python",
   "name": "python",
   "nbconvert_exporter": "python",
   "pygments_lexer": "ipython2",
   "version": "2.7.10"
  }
 },
 "nbformat": 4,
 "nbformat_minor": 0
}
