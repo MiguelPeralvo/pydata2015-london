{
 "cells": [
  {
   "cell_type": "code",
   "execution_count": 1,
   "metadata": {
    "collapsed": false
   },
   "outputs": [],
   "source": [
    "from pandas.core import nanops\n",
    "np.random.seed(1234)\n",
    "pd.set_option('max_row',12)\n",
    "\n",
    "nrows, ncols = 200000, 50\n",
    "\n",
    "df1, df2, df3, df4 = [DataFrame(np.random.randn(nrows, ncols)) for _ in range(4)]"
   ]
  },
  {
   "cell_type": "markdown",
   "metadata": {},
   "source": [
    "## numexpr"
   ]
  },
  {
   "cell_type": "code",
   "execution_count": 6,
   "metadata": {
    "collapsed": false
   },
   "outputs": [
    {
     "name": "stdout",
     "output_type": "stream",
     "text": [
      "10 loops, best of 3: 182 ms per loop\n"
     ]
    }
   ],
   "source": [
    "%timeit -n 10 (df1 > df2) | (df3 > df4)"
   ]
  },
  {
   "cell_type": "code",
   "execution_count": 7,
   "metadata": {
    "collapsed": false
   },
   "outputs": [
    {
     "name": "stdout",
     "output_type": "stream",
     "text": [
      "10 loops, best of 3: 23.6 ms per loop\n"
     ]
    }
   ],
   "source": [
    "%timeit pd.eval('(df1 > df2) | (df3 > df4)')"
   ]
  },
  {
   "cell_type": "markdown",
   "metadata": {},
   "source": [
    "## bottleneck"
   ]
  },
  {
   "cell_type": "code",
   "execution_count": 8,
   "metadata": {
    "collapsed": false
   },
   "outputs": [
    {
     "name": "stdout",
     "output_type": "stream",
     "text": [
      "10 loops, best of 3: 43.5 ms per loop\n"
     ]
    }
   ],
   "source": [
    "nanops._USE_BOTTLENECK = True\n",
    "%timeit df1.sum()"
   ]
  },
  {
   "cell_type": "code",
   "execution_count": 9,
   "metadata": {
    "collapsed": false
   },
   "outputs": [
    {
     "name": "stdout",
     "output_type": "stream",
     "text": [
      "10 loops, best of 3: 63.4 ms per loop\n"
     ]
    }
   ],
   "source": [
    "nanops._USE_BOTTLENECK = False\n",
    "%timeit df1.sum()"
   ]
  },
  {
   "cell_type": "code",
   "execution_count": 10,
   "metadata": {
    "collapsed": false
   },
   "outputs": [
    {
     "name": "stdout",
     "output_type": "stream",
     "text": [
      "10 loops, best of 3: 22.2 ms per loop\n"
     ]
    }
   ],
   "source": [
    "nanops._USE_BOTTLENECK = True\n",
    "%timeit df1.max(axis=1)"
   ]
  },
  {
   "cell_type": "code",
   "execution_count": 11,
   "metadata": {
    "collapsed": false
   },
   "outputs": [
    {
     "name": "stdout",
     "output_type": "stream",
     "text": [
      "10 loops, best of 3: 64.2 ms per loop\n"
     ]
    }
   ],
   "source": [
    "nanops._USE_BOTTLENECK = False\n",
    "%timeit df1.max(axis=1)"
   ]
  }
 ],
 "metadata": {
  "kernelspec": {
   "display_name": "Python 2",
   "language": "python",
   "name": "python2"
  },
  "language_info": {
   "codemirror_mode": {
    "name": "ipython",
    "version": 2
   },
   "file_extension": ".py",
   "mimetype": "text/x-python",
   "name": "python",
   "nbconvert_exporter": "python",
   "pygments_lexer": "ipython2",
   "version": "2.7.10"
  }
 },
 "nbformat": 4,
 "nbformat_minor": 0
}
