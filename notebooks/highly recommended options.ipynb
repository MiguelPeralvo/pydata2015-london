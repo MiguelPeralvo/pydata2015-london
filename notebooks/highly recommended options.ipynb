{
 "cells": [
  {
   "cell_type": "code",
   "execution_count": 9,
   "metadata": {
    "collapsed": false
   },
   "outputs": [],
   "source": [
    "from pandas.core import nanops\n",
    "np.random.seed(1234)\n",
    "pd.set_option('max_row',12)\n",
    "\n",
    "nrows, ncols = 200000, 50\n",
    "\n",
    "df1, df2, df3, df4 = [DataFrame(np.random.randn(nrows, ncols)) for _ in range(4)]"
   ]
  },
  {
   "cell_type": "markdown",
   "metadata": {},
   "source": [
    "## numexpr"
   ]
  },
  {
   "cell_type": "code",
   "execution_count": 10,
   "metadata": {
    "collapsed": false
   },
   "outputs": [
    {
     "name": "stdout",
     "output_type": "stream",
     "text": [
      "1 loops, best of 3: 191 ms per loop\n"
     ]
    }
   ],
   "source": [
    "%timeit (df1 > df2) | (df3 > df4)"
   ]
  },
  {
   "cell_type": "code",
   "execution_count": 11,
   "metadata": {
    "collapsed": false
   },
   "outputs": [
    {
     "name": "stdout",
     "output_type": "stream",
     "text": [
      "10 loops, best of 3: 27 ms per loop\n"
     ]
    }
   ],
   "source": [
    "%timeit pd.eval('(df1 > df2) | (df3 > df4)')"
   ]
  },
  {
   "cell_type": "markdown",
   "metadata": {},
   "source": [
    "## bottleneck"
   ]
  },
  {
   "cell_type": "code",
   "execution_count": 13,
   "metadata": {
    "collapsed": false
   },
   "outputs": [
    {
     "name": "stdout",
     "output_type": "stream",
     "text": [
      "10 loops, best of 3: 43 ms per loop\n"
     ]
    }
   ],
   "source": [
    "nanops._USE_BOTTLENECK = True\n",
    "%timeit df1.sum()"
   ]
  },
  {
   "cell_type": "code",
   "execution_count": 14,
   "metadata": {
    "collapsed": false
   },
   "outputs": [
    {
     "name": "stdout",
     "output_type": "stream",
     "text": [
      "10 loops, best of 3: 68 ms per loop\n"
     ]
    }
   ],
   "source": [
    "nanops._USE_BOTTLENECK = False\n",
    "%timeit df1.sum()"
   ]
  },
  {
   "cell_type": "code",
   "execution_count": 20,
   "metadata": {
    "collapsed": false
   },
   "outputs": [
    {
     "name": "stdout",
     "output_type": "stream",
     "text": [
      "10 loops, best of 3: 22.5 ms per loop\n"
     ]
    }
   ],
   "source": [
    "nanops._USE_BOTTLENECK = True\n",
    "%timeit df1.max(axis=1)"
   ]
  },
  {
   "cell_type": "code",
   "execution_count": 21,
   "metadata": {
    "collapsed": false
   },
   "outputs": [
    {
     "name": "stdout",
     "output_type": "stream",
     "text": [
      "10 loops, best of 3: 65.2 ms per loop\n"
     ]
    }
   ],
   "source": [
    "nanops._USE_BOTTLENECK = False\n",
    "%timeit df1.max(axis=1)"
   ]
  },
  {
   "cell_type": "markdown",
   "metadata": {},
   "source": [
    "### bottleneck w/o dtypes"
   ]
  },
  {
   "cell_type": "code",
   "execution_count": 25,
   "metadata": {
    "collapsed": false
   },
   "outputs": [
    {
     "data": {
      "text/plain": [
       "0       2013-01-01 00:13:33\n",
       "1       2013-01-01 00:01:21\n",
       "2       2013-01-01 00:14:28\n",
       "3       2013-01-01 00:01:19\n",
       "4       2013-01-01 00:14:47\n",
       "5       2013-01-01 00:10:14\n",
       "                ...        \n",
       "99994   2013-01-01 00:01:27\n",
       "99995   2013-01-01 00:02:55\n",
       "99996   2013-01-01 00:02:21\n",
       "99997   2013-01-01 00:04:10\n",
       "99998   2013-01-01 00:15:05\n",
       "99999   2013-01-01 00:15:19\n",
       "dtype: datetime64[ns]"
      ]
     },
     "execution_count": 25,
     "metadata": {},
     "output_type": "execute_result"
    }
   ],
   "source": [
    "s = Series(pd.date_range('20130101',\n",
    "                         periods=1000,\n",
    "                         freq='s').take(np.random.randint(0,1000,size=100000)))\n",
    "s"
   ]
  },
  {
   "cell_type": "code",
   "execution_count": 27,
   "metadata": {
    "collapsed": false
   },
   "outputs": [
    {
     "name": "stdout",
     "output_type": "stream",
     "text": [
      "1000 loops, best of 3: 380 µs per loop\n"
     ]
    }
   ],
   "source": [
    "nanops._USE_BOTTLENECK = True\n",
    "%timeit s.max()"
   ]
  },
  {
   "cell_type": "code",
   "execution_count": 28,
   "metadata": {
    "collapsed": false
   },
   "outputs": [
    {
     "name": "stdout",
     "output_type": "stream",
     "text": [
      "1000 loops, best of 3: 389 µs per loop\n"
     ]
    }
   ],
   "source": [
    "nanops._USE_BOTTLENECK = False\n",
    "%timeit s.max()"
   ]
  },
  {
   "cell_type": "code",
   "execution_count": 30,
   "metadata": {
    "collapsed": false
   },
   "outputs": [
    {
     "name": "stdout",
     "output_type": "stream",
     "text": [
      "10000 loops, best of 3: 159 µs per loop\n"
     ]
    }
   ],
   "source": [
    "nanops._USE_BOTTLENECK = True\n",
    "%timeit s.view('i8').max()"
   ]
  },
  {
   "cell_type": "code",
   "execution_count": 31,
   "metadata": {
    "collapsed": false
   },
   "outputs": [
    {
     "name": "stdout",
     "output_type": "stream",
     "text": [
      "1000 loops, best of 3: 490 µs per loop\n"
     ]
    }
   ],
   "source": [
    "nanops._USE_BOTTLENECK = False\n",
    "%timeit s.view('i8').max()"
   ]
  },
  {
   "cell_type": "code",
   "execution_count": null,
   "metadata": {
    "collapsed": true
   },
   "outputs": [],
   "source": []
  }
 ],
 "metadata": {
  "kernelspec": {
   "display_name": "Python 2",
   "language": "python",
   "name": "python2"
  },
  "language_info": {
   "codemirror_mode": {
    "name": "ipython",
    "version": 2
   },
   "file_extension": ".py",
   "mimetype": "text/x-python",
   "name": "python",
   "nbconvert_exporter": "python",
   "pygments_lexer": "ipython2",
   "version": "2.7.10"
  }
 },
 "nbformat": 4,
 "nbformat_minor": 0
}
