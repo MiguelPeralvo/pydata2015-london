{
 "cells": [
  {
   "cell_type": "markdown",
   "metadata": {},
   "source": [
    "How to make pandas go <font color='red'>slow</font>"
   ]
  },
  {
   "cell_type": "code",
   "execution_count": 1,
   "metadata": {
    "collapsed": false
   },
   "outputs": [],
   "source": [
    "pd.set_option('max_rows',12)"
   ]
  },
  {
   "cell_type": "code",
   "execution_count": 5,
   "metadata": {
    "collapsed": false
   },
   "outputs": [],
   "source": [
    "df = pd.DataFrame(np.random.randn(10000,2),columns=list('AB'))"
   ]
  },
  {
   "cell_type": "code",
   "execution_count": 27,
   "metadata": {
    "collapsed": false
   },
   "outputs": [],
   "source": [
    "def f_apply(df):\n",
    "    return df.apply(lambda x: x['A'] + 1, axis=1)\n",
    "\n",
    "def f_iterrows(df):\n",
    "    l = []\n",
    "    for rowindex, row in df.iterrows():\n",
    "        l.append(row['A']+1)\n",
    "    return Series(l,name='A')\n",
    "\n",
    "def f_index(df):\n",
    "    l = []\n",
    "    for i in range(len(df)):\n",
    "        l.append(df.iloc[i,0] + 1)\n",
    "    return Series(l,name='A')"
   ]
  },
  {
   "cell_type": "code",
   "execution_count": 28,
   "metadata": {
    "collapsed": false
   },
   "outputs": [
    {
     "data": {
      "text/plain": [
       "True"
      ]
     },
     "execution_count": 28,
     "metadata": {},
     "output_type": "execute_result"
    }
   ],
   "source": [
    "result_apply = f_apply(df)\n",
    "result_iterrows = f_iterrows(df)\n",
    "result_index = f_index(df)\n",
    "\n",
    "result_apply.equals(result_iterrows) and result_apply.equals(result_index)"
   ]
  },
  {
   "cell_type": "code",
   "execution_count": 29,
   "metadata": {
    "collapsed": false
   },
   "outputs": [
    {
     "name": "stdout",
     "output_type": "stream",
     "text": [
      "10 loops, best of 3: 103 ms per loop\n",
      "1 loops, best of 3: 231 ms per loop\n",
      "1 loops, best of 3: 976 ms per loop\n"
     ]
    }
   ],
   "source": [
    "%timeit f_apply(df)\n",
    "%timeit f_iterrows(df)\n",
    "%timeit f_index(df)"
   ]
  },
  {
   "cell_type": "code",
   "execution_count": null,
   "metadata": {
    "collapsed": false
   },
   "outputs": [],
   "source": []
  }
 ],
 "metadata": {
  "kernelspec": {
   "display_name": "Python 2",
   "language": "python",
   "name": "python2"
  },
  "language_info": {
   "codemirror_mode": {
    "name": "ipython",
    "version": 2
   },
   "file_extension": ".py",
   "mimetype": "text/x-python",
   "name": "python",
   "nbconvert_exporter": "python",
   "pygments_lexer": "ipython2",
   "version": "2.7.10"
  }
 },
 "nbformat": 4,
 "nbformat_minor": 0
}
