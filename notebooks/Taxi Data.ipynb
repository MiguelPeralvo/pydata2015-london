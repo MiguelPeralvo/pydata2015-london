{
 "cells": [
  {
   "cell_type": "markdown",
   "metadata": {},
   "source": [
    "Taxi Database\n",
    "http://www.andresmh.com/nyctaxitrips/"
   ]
  },
  {
   "cell_type": "code",
   "execution_count": 26,
   "metadata": {
    "collapsed": false
   },
   "outputs": [],
   "source": [
    "# read in an convert the trip data to h5\n",
    "def convert_trip():\n",
    "    tr = pd.read_csv('../data/final.csv',\n",
    "                      chunksize=2000000,\n",
    "                      names=\"medallion,hack_license,vendor_id,rate_code,store_and_fwd_flag,pickup_date,pickup_time,dropoff_date,dropoff_time,passenger_count,trip_time_in_secs,trip_distance,pickup_longitude,pickup_latitude,dropoff_longitude,dropoff_latitude\".split(','),\n",
    "                      dtype={'store_and_fwd_flag' : object})\n",
    "\n",
    "    def parse_dates(df, name):\n",
    "\n",
    "        date = df.pop(\"%s_date\" % name)\n",
    "        time = df.pop(\"%s_time\" % name)\n",
    "        df[name] = pd.to_datetime(date + ' ' + time,infer_datetime_format=True)\n",
    "        return df\n",
    "\n",
    "    categories = {}\n",
    "    def parse_cats(df, name):\n",
    "\n",
    "        field = df.pop(name)\n",
    "        cats = categories.get(name)\n",
    "        df[name] = pd.Categorical(field, categories=cats)\n",
    "        if cats is None:\n",
    "            categories[name] = df[name].cat.categories\n",
    "        return df\n",
    "\n",
    "    store = pd.HDFStore('../data/final.h5',mode='w')\n",
    "    for i, df in enumerate(tr):\n",
    "        \n",
    "        # convert dates\n",
    "        for name in ['pickup','dropoff']:\n",
    "            df = parse_dates(df, name)\n",
    "\n",
    "        # convert objects to cats\n",
    "        for name in ['medallion','hack_license','vendor_id','store_and_fwd_flag']:\n",
    "            df = parse_cats(df, name)\n",
    "\n",
    "        store.append('df',df,format='table',data_columns=True,index=False)\n",
    "    store.close()\n",
    "    \n",
    "def convert_fare():\n",
    "    import glob\n",
    "    store = pd.HDFStore('../data/fare.h5',mode='w')\n",
    "    for file in glob.glob('../data/trip_fare_*.csv'):\n",
    "        df = pd.read_csv(file)\n",
    "        df.columns = df.columns.to_series().str.strip()\n",
    "        \n",
    "        categories = {}\n",
    "        def parse_cats(df, name):\n",
    "\n",
    "            field = df.pop(name)\n",
    "            cats = categories.get(name)\n",
    "            df[name] = pd.Categorical(field, categories=cats)\n",
    "            if cats is None:\n",
    "                categories[name] = df[name].cat.categories\n",
    "            return df\n",
    "\n",
    "        # convert dates\n",
    "        df['pickup_datetime'] = pd.to_datetime(df['pickup_datetime'])\n",
    "        \n",
    "        # convert objects to cats\n",
    "        for name in ['medallion','hack_license','vendor_id','payment_type']:\n",
    "            df = parse_cats(df, name)\n",
    "\n",
    "        store.append('df',df,format='table',data_columns=True,index=False)\n",
    "    store.close()"
   ]
  },
  {
   "cell_type": "code",
   "execution_count": 27,
   "metadata": {
    "collapsed": false
   },
   "outputs": [
    {
     "name": "stdout",
     "output_type": "stream",
     "text": [
      "1 loops, best of 1: 7min 40s per loop\n"
     ]
    }
   ],
   "source": [
    "%timeit -n 1 -r 1 convert_trip()"
   ]
  },
  {
   "cell_type": "code",
   "execution_count": 3,
   "metadata": {
    "collapsed": false
   },
   "outputs": [
    {
     "name": "stdout",
     "output_type": "stream",
     "text": [
      "1 loops, best of 1: 48.7 s per loop\n"
     ]
    }
   ],
   "source": [
    "%timeit -n 1 -r 1 convert_fare()"
   ]
  },
  {
   "cell_type": "code",
   "execution_count": 20,
   "metadata": {
    "collapsed": false
   },
   "outputs": [],
   "source": [
    "# define the grouper\n",
    "def groupby(store, grouper, field, gfunc=None):\n",
    "    \"\"\" return sum, counts for the grouped field \"\"\"\n",
    "    nrows = store.get_storer('df').nrows\n",
    "\n",
    "    def chunker():\n",
    "        chunksize = 5000000\n",
    "        for i, chunk in enumerate(range(nrows/chunksize)):\n",
    "\n",
    "            start = chunk*chunksize\n",
    "            stop = min((chunk+1)*chunksize,nrows)\n",
    "            yield start, stop\n",
    "        \n",
    "    sums = []\n",
    "    counts = []\n",
    "    for start, stop in chunker():\n",
    "        df = store.select('df',start=start,stop=stop,columns=[grouper,field])\n",
    "        df.columns = ['grp','data']\n",
    "        \n",
    "        if gfunc is not None:\n",
    "            df['grp'] = gfunc(df['grp'])\n",
    "        g = df.groupby('grp')['data']\n",
    "        sums.append(g.sum())\n",
    "        counts.append(g.count())\n",
    "\n",
    "    sums = pd.concat(sums)\n",
    "    counts = pd.concat(counts)\n",
    "    sums = sums.groupby(level='grp').sum()\n",
    "    counts = counts.groupby(level='grp').sum()\n",
    "\n",
    "    return sums, counts"
   ]
  },
  {
   "cell_type": "code",
   "execution_count": 24,
   "metadata": {
    "collapsed": false
   },
   "outputs": [
    {
     "name": "stdout",
     "output_type": "stream",
     "text": [
      "98835718\n",
      "-rw-r--r--  1 jreback  staff  16467220329 Nov 16 20:00 ../data/final.csv\r\n",
      "-rw-r--r--  2 jreback  staff   9292830544 Nov 17 17:45 ../data/final.h5\r\n"
     ]
    }
   ],
   "source": [
    "with pd.get_store('../data/final.h5') as store:\n",
    "    print store.get_storer('df').nrows\n",
    "    \n",
    "!ls -ltr ../data/final.*"
   ]
  },
  {
   "cell_type": "code",
   "execution_count": 22,
   "metadata": {
    "collapsed": false
   },
   "outputs": [
    {
     "name": "stdout",
     "output_type": "stream",
     "text": [
      "1 loops, best of 1: 22.9 s per loop\n"
     ]
    }
   ],
   "source": [
    "def groupby_medallion_counts():\n",
    "    with pd.get_store('../data/final.h5') as store:\n",
    "        sums, counts  = groupby(store, 'medallion', 'passenger_count')\n",
    "        #print sums/counts\n",
    "%timeit -n 1 -r 1 groupby_medallion_counts()"
   ]
  },
  {
   "cell_type": "code",
   "execution_count": 4,
   "metadata": {
    "collapsed": false
   },
   "outputs": [
    {
     "name": "stdout",
     "output_type": "stream",
     "text": [
      "14776615\n",
      "-rwxrwxrwx@ 1 jreback  staff  1681610043 Aug 25  2013 \u001b[31m../data/trip_fare_1.csv\u001b[m\u001b[m\r\n",
      "-rw-r--r--  1 jreback  staff  1036057072 Nov 17 19:43 ../data/fare.h5\r\n"
     ]
    }
   ],
   "source": [
    "with pd.get_store('../data/fare.h5') as store:\n",
    "    print store.get_storer('df').nrows\n",
    "    \n",
    "!ls -ltr ../data/*fare*"
   ]
  },
  {
   "cell_type": "code",
   "execution_count": 23,
   "metadata": {
    "collapsed": false
   },
   "outputs": [
    {
     "name": "stdout",
     "output_type": "stream",
     "text": [
      "1 loops, best of 1: 6.58 s per loop\n"
     ]
    }
   ],
   "source": [
    "# chunking\n",
    "def groupby_avg_fares():\n",
    "    with pd.get_store('../data/fare.h5') as store:\n",
    "        sums, counts = groupby(store, 'pickup_datetime', 'fare_amount', gfunc=lambda x: x.dt.day)\n",
    "        #print sums/counts\n",
    "%timeit -n 1 -r 1 groupby_avg_fares()"
   ]
  },
  {
   "cell_type": "code",
   "execution_count": 1,
   "metadata": {
    "collapsed": false
   },
   "outputs": [
    {
     "ename": "AssertionError",
     "evalue": "cannot interpret dtype of [category] in [name->medallion,cname->medallion,dtype->category,kind->None,shape->None]",
     "output_type": "error",
     "traceback": [
      "\u001b[0;31m---------------------------------------------------------------------------\u001b[0m",
      "\u001b[0;31mAssertionError\u001b[0m                            Traceback (most recent call last)",
      "\u001b[0;32m<ipython-input-1-aa7af6f00eb2>\u001b[0m in \u001b[0;36m<module>\u001b[0;34m()\u001b[0m\n\u001b[1;32m      1\u001b[0m \u001b[0;31m# in memory\u001b[0m\u001b[0;34m\u001b[0m\u001b[0;34m\u001b[0m\u001b[0m\n\u001b[0;32m----> 2\u001b[0;31m \u001b[0mx\u001b[0m \u001b[0;34m=\u001b[0m \u001b[0mpd\u001b[0m\u001b[0;34m.\u001b[0m\u001b[0mread_hdf\u001b[0m\u001b[0;34m(\u001b[0m\u001b[0;34m'../data/fare.h5'\u001b[0m\u001b[0;34m,\u001b[0m\u001b[0;34m'df'\u001b[0m\u001b[0;34m,\u001b[0m\u001b[0mcolumns\u001b[0m\u001b[0;34m=\u001b[0m\u001b[0;34m[\u001b[0m\u001b[0;34m'pickup_datetime'\u001b[0m\u001b[0;34m,\u001b[0m\u001b[0;34m'fare_amount'\u001b[0m\u001b[0;34m]\u001b[0m\u001b[0;34m)\u001b[0m\u001b[0;34m.\u001b[0m\u001b[0mset_index\u001b[0m\u001b[0;34m(\u001b[0m\u001b[0;34m'pickup_datetime'\u001b[0m\u001b[0;34m)\u001b[0m\u001b[0;34m\u001b[0m\u001b[0m\n\u001b[0m\u001b[1;32m      3\u001b[0m \u001b[0mget_ipython\u001b[0m\u001b[0;34m(\u001b[0m\u001b[0;34m)\u001b[0m\u001b[0;34m.\u001b[0m\u001b[0mmagic\u001b[0m\u001b[0;34m(\u001b[0m\u001b[0;34mu\"timeit -n 1 -r 1 x.resample('D',how='mean')\"\u001b[0m\u001b[0;34m)\u001b[0m\u001b[0;34m\u001b[0m\u001b[0m\n",
      "\u001b[0;32m/Users/jreback/anaconda/lib/python2.7/site-packages/pandas/io/pytables.pyc\u001b[0m in \u001b[0;36mread_hdf\u001b[0;34m(path_or_buf, key, **kwargs)\u001b[0m\n\u001b[1;32m    321\u001b[0m         \u001b[0mstore\u001b[0m \u001b[0;34m=\u001b[0m \u001b[0mHDFStore\u001b[0m\u001b[0;34m(\u001b[0m\u001b[0mpath_or_buf\u001b[0m\u001b[0;34m,\u001b[0m \u001b[0;34m**\u001b[0m\u001b[0mkwargs\u001b[0m\u001b[0;34m)\u001b[0m\u001b[0;34m\u001b[0m\u001b[0m\n\u001b[1;32m    322\u001b[0m         \u001b[0;32mtry\u001b[0m\u001b[0;34m:\u001b[0m\u001b[0;34m\u001b[0m\u001b[0m\n\u001b[0;32m--> 323\u001b[0;31m             \u001b[0;32mreturn\u001b[0m \u001b[0mf\u001b[0m\u001b[0;34m(\u001b[0m\u001b[0mstore\u001b[0m\u001b[0;34m,\u001b[0m \u001b[0mTrue\u001b[0m\u001b[0;34m)\u001b[0m\u001b[0;34m\u001b[0m\u001b[0m\n\u001b[0m\u001b[1;32m    324\u001b[0m         \u001b[0;32mexcept\u001b[0m\u001b[0;34m:\u001b[0m\u001b[0;34m\u001b[0m\u001b[0m\n\u001b[1;32m    325\u001b[0m \u001b[0;34m\u001b[0m\u001b[0m\n",
      "\u001b[0;32m/Users/jreback/anaconda/lib/python2.7/site-packages/pandas/io/pytables.pyc\u001b[0m in \u001b[0;36m<lambda>\u001b[0;34m(store, auto_close)\u001b[0m\n\u001b[1;32m    303\u001b[0m \u001b[0;34m\u001b[0m\u001b[0m\n\u001b[1;32m    304\u001b[0m     f = lambda store, auto_close: store.select(\n\u001b[0;32m--> 305\u001b[0;31m         key, auto_close=auto_close, **kwargs)\n\u001b[0m\u001b[1;32m    306\u001b[0m \u001b[0;34m\u001b[0m\u001b[0m\n\u001b[1;32m    307\u001b[0m     \u001b[0;32mif\u001b[0m \u001b[0misinstance\u001b[0m\u001b[0;34m(\u001b[0m\u001b[0mpath_or_buf\u001b[0m\u001b[0;34m,\u001b[0m \u001b[0mstring_types\u001b[0m\u001b[0;34m)\u001b[0m\u001b[0;34m:\u001b[0m\u001b[0;34m\u001b[0m\u001b[0m\n",
      "\u001b[0;32m/Users/jreback/anaconda/lib/python2.7/site-packages/pandas/io/pytables.pyc\u001b[0m in \u001b[0;36mselect\u001b[0;34m(self, key, where, start, stop, columns, iterator, chunksize, auto_close, **kwargs)\u001b[0m\n\u001b[1;32m    650\u001b[0m         \u001b[0mwhere\u001b[0m \u001b[0;34m=\u001b[0m \u001b[0m_ensure_term\u001b[0m\u001b[0;34m(\u001b[0m\u001b[0mwhere\u001b[0m\u001b[0;34m,\u001b[0m \u001b[0mscope_level\u001b[0m\u001b[0;34m=\u001b[0m\u001b[0;36m1\u001b[0m\u001b[0;34m)\u001b[0m\u001b[0;34m\u001b[0m\u001b[0m\n\u001b[1;32m    651\u001b[0m         \u001b[0ms\u001b[0m \u001b[0;34m=\u001b[0m \u001b[0mself\u001b[0m\u001b[0;34m.\u001b[0m\u001b[0m_create_storer\u001b[0m\u001b[0;34m(\u001b[0m\u001b[0mgroup\u001b[0m\u001b[0;34m)\u001b[0m\u001b[0;34m\u001b[0m\u001b[0m\n\u001b[0;32m--> 652\u001b[0;31m         \u001b[0ms\u001b[0m\u001b[0;34m.\u001b[0m\u001b[0minfer_axes\u001b[0m\u001b[0;34m(\u001b[0m\u001b[0;34m)\u001b[0m\u001b[0;34m\u001b[0m\u001b[0m\n\u001b[0m\u001b[1;32m    653\u001b[0m \u001b[0;34m\u001b[0m\u001b[0m\n\u001b[1;32m    654\u001b[0m         \u001b[0;31m# function to call on iteration\u001b[0m\u001b[0;34m\u001b[0m\u001b[0;34m\u001b[0m\u001b[0m\n",
      "\u001b[0;32m/Users/jreback/anaconda/lib/python2.7/site-packages/pandas/io/pytables.pyc\u001b[0m in \u001b[0;36minfer_axes\u001b[0;34m(self)\u001b[0m\n\u001b[1;32m   2243\u001b[0m         \u001b[0;32mif\u001b[0m \u001b[0ms\u001b[0m \u001b[0;32mis\u001b[0m \u001b[0mNone\u001b[0m\u001b[0;34m:\u001b[0m\u001b[0;34m\u001b[0m\u001b[0m\n\u001b[1;32m   2244\u001b[0m             \u001b[0;32mreturn\u001b[0m \u001b[0mFalse\u001b[0m\u001b[0;34m\u001b[0m\u001b[0m\n\u001b[0;32m-> 2245\u001b[0;31m         \u001b[0mself\u001b[0m\u001b[0;34m.\u001b[0m\u001b[0mget_attrs\u001b[0m\u001b[0;34m(\u001b[0m\u001b[0;34m)\u001b[0m\u001b[0;34m\u001b[0m\u001b[0m\n\u001b[0m\u001b[1;32m   2246\u001b[0m         \u001b[0;32mreturn\u001b[0m \u001b[0mTrue\u001b[0m\u001b[0;34m\u001b[0m\u001b[0m\n\u001b[1;32m   2247\u001b[0m \u001b[0;34m\u001b[0m\u001b[0m\n",
      "\u001b[0;32m/Users/jreback/anaconda/lib/python2.7/site-packages/pandas/io/pytables.pyc\u001b[0m in \u001b[0;36mget_attrs\u001b[0;34m(self)\u001b[0m\n\u001b[1;32m   3056\u001b[0m         ]\n\u001b[1;32m   3057\u001b[0m         self.values_axes = [\n\u001b[0;32m-> 3058\u001b[0;31m             \u001b[0ma\u001b[0m\u001b[0;34m.\u001b[0m\u001b[0minfer\u001b[0m\u001b[0;34m(\u001b[0m\u001b[0mself\u001b[0m\u001b[0;34m)\u001b[0m \u001b[0;32mfor\u001b[0m \u001b[0ma\u001b[0m \u001b[0;32min\u001b[0m \u001b[0mself\u001b[0m\u001b[0;34m.\u001b[0m\u001b[0mindexables\u001b[0m \u001b[0;32mif\u001b[0m \u001b[0;32mnot\u001b[0m \u001b[0ma\u001b[0m\u001b[0;34m.\u001b[0m\u001b[0mis_an_indexable\u001b[0m\u001b[0;34m\u001b[0m\u001b[0m\n\u001b[0m\u001b[1;32m   3059\u001b[0m         ]\n\u001b[1;32m   3060\u001b[0m         self.metadata = getattr(\n",
      "\u001b[0;32m/Users/jreback/anaconda/lib/python2.7/site-packages/pandas/io/pytables.pyc\u001b[0m in \u001b[0;36minfer\u001b[0;34m(self, handler)\u001b[0m\n\u001b[1;32m   1464\u001b[0m         \u001b[0mnew_self\u001b[0m \u001b[0;34m=\u001b[0m \u001b[0mself\u001b[0m\u001b[0;34m.\u001b[0m\u001b[0mcopy\u001b[0m\u001b[0;34m(\u001b[0m\u001b[0;34m)\u001b[0m\u001b[0;34m\u001b[0m\u001b[0m\n\u001b[1;32m   1465\u001b[0m         \u001b[0mnew_self\u001b[0m\u001b[0;34m.\u001b[0m\u001b[0mset_table\u001b[0m\u001b[0;34m(\u001b[0m\u001b[0mtable\u001b[0m\u001b[0;34m)\u001b[0m\u001b[0;34m\u001b[0m\u001b[0m\n\u001b[0;32m-> 1466\u001b[0;31m         \u001b[0mnew_self\u001b[0m\u001b[0;34m.\u001b[0m\u001b[0mget_attr\u001b[0m\u001b[0;34m(\u001b[0m\u001b[0;34m)\u001b[0m\u001b[0;34m\u001b[0m\u001b[0m\n\u001b[0m\u001b[1;32m   1467\u001b[0m         \u001b[0mnew_self\u001b[0m\u001b[0;34m.\u001b[0m\u001b[0mread_metadata\u001b[0m\u001b[0;34m(\u001b[0m\u001b[0mhandler\u001b[0m\u001b[0;34m)\u001b[0m\u001b[0;34m\u001b[0m\u001b[0m\n\u001b[1;32m   1468\u001b[0m         \u001b[0;32mreturn\u001b[0m \u001b[0mnew_self\u001b[0m\u001b[0;34m\u001b[0m\u001b[0m\n",
      "\u001b[0;32m/Users/jreback/anaconda/lib/python2.7/site-packages/pandas/io/pytables.pyc\u001b[0m in \u001b[0;36mget_attr\u001b[0;34m(self)\u001b[0m\n\u001b[1;32m   2065\u001b[0m         \u001b[0mself\u001b[0m\u001b[0;34m.\u001b[0m\u001b[0mdtype\u001b[0m \u001b[0;34m=\u001b[0m \u001b[0mgetattr\u001b[0m\u001b[0;34m(\u001b[0m\u001b[0mself\u001b[0m\u001b[0;34m.\u001b[0m\u001b[0mattrs\u001b[0m\u001b[0;34m,\u001b[0m \u001b[0mself\u001b[0m\u001b[0;34m.\u001b[0m\u001b[0mdtype_attr\u001b[0m\u001b[0;34m,\u001b[0m \u001b[0mNone\u001b[0m\u001b[0;34m)\u001b[0m\u001b[0;34m\u001b[0m\u001b[0m\n\u001b[1;32m   2066\u001b[0m         \u001b[0mself\u001b[0m\u001b[0;34m.\u001b[0m\u001b[0mmeta\u001b[0m \u001b[0;34m=\u001b[0m \u001b[0mgetattr\u001b[0m\u001b[0;34m(\u001b[0m\u001b[0mself\u001b[0m\u001b[0;34m.\u001b[0m\u001b[0mattrs\u001b[0m\u001b[0;34m,\u001b[0m \u001b[0mself\u001b[0m\u001b[0;34m.\u001b[0m\u001b[0mmeta_attr\u001b[0m\u001b[0;34m,\u001b[0m \u001b[0mNone\u001b[0m\u001b[0;34m)\u001b[0m\u001b[0;34m\u001b[0m\u001b[0m\n\u001b[0;32m-> 2067\u001b[0;31m         \u001b[0mself\u001b[0m\u001b[0;34m.\u001b[0m\u001b[0mset_kind\u001b[0m\u001b[0;34m(\u001b[0m\u001b[0;34m)\u001b[0m\u001b[0;34m\u001b[0m\u001b[0m\n\u001b[0m\u001b[1;32m   2068\u001b[0m \u001b[0;34m\u001b[0m\u001b[0m\n\u001b[1;32m   2069\u001b[0m     \u001b[0;32mdef\u001b[0m \u001b[0mset_attr\u001b[0m\u001b[0;34m(\u001b[0m\u001b[0mself\u001b[0m\u001b[0;34m)\u001b[0m\u001b[0;34m:\u001b[0m\u001b[0;34m\u001b[0m\u001b[0m\n",
      "\u001b[0;32m/Users/jreback/anaconda/lib/python2.7/site-packages/pandas/io/pytables.pyc\u001b[0m in \u001b[0;36mset_kind\u001b[0;34m(self)\u001b[0m\n\u001b[1;32m   1762\u001b[0m             \u001b[0;32melse\u001b[0m\u001b[0;34m:\u001b[0m\u001b[0;34m\u001b[0m\u001b[0m\n\u001b[1;32m   1763\u001b[0m                 raise AssertionError(\n\u001b[0;32m-> 1764\u001b[0;31m                     \"cannot interpret dtype of [%s] in [%s]\" % (dtype, self))\n\u001b[0m\u001b[1;32m   1765\u001b[0m \u001b[0;34m\u001b[0m\u001b[0m\n\u001b[1;32m   1766\u001b[0m             \u001b[0;31m# set my typ if we need\u001b[0m\u001b[0;34m\u001b[0m\u001b[0;34m\u001b[0m\u001b[0m\n",
      "\u001b[0;31mAssertionError\u001b[0m: cannot interpret dtype of [category] in [name->medallion,cname->medallion,dtype->category,kind->None,shape->None]"
     ]
    }
   ],
   "source": [
    "# in memory\n",
    "x = pd.read_hdf('../data/fare.h5','df',columns=['pickup_datetime','fare_amount']).set_index('pickup_datetime')\n",
    "%timeit -n 1 -r 1 x.resample('D',how='mean')"
   ]
  },
  {
   "cell_type": "code",
   "execution_count": null,
   "metadata": {
    "collapsed": false
   },
   "outputs": [],
   "source": []
  }
 ],
 "metadata": {
  "kernelspec": {
   "display_name": "Python 2",
   "language": "python",
   "name": "python2"
  },
  "language_info": {
   "codemirror_mode": {
    "name": "ipython",
    "version": 2
   },
   "file_extension": ".py",
   "mimetype": "text/x-python",
   "name": "python",
   "nbconvert_exporter": "python",
   "pygments_lexer": "ipython2",
   "version": "2.7.9"
  }
 },
 "nbformat": 4,
 "nbformat_minor": 0
}
