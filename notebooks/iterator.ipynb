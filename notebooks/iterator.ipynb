{
 "cells": [
  {
   "cell_type": "markdown",
   "metadata": {},
   "source": [
    "# Iterators"
   ]
  },
  {
   "cell_type": "code",
   "execution_count": 1,
   "metadata": {
    "collapsed": true
   },
   "outputs": [],
   "source": [
    "df = DataFrame({'A' : np.random.randn(10), 'B' : 'foo'})\n",
    "df.to_csv('test.csv',mode='w')\n",
    "df.to_hdf('test.h5','df',mode='w',format='table')"
   ]
  },
  {
   "cell_type": "code",
   "execution_count": 2,
   "metadata": {
    "collapsed": false
   },
   "outputs": [
    {
     "name": "stdout",
     "output_type": "stream",
     "text": [
      "          A    B\n",
      "0 -0.142653  foo\n",
      "1 -0.416891  foo\n",
      "2  0.445686  foo\n",
      "          A    B\n",
      "3  0.588488  foo\n",
      "4 -0.704668  foo\n",
      "5  0.765564  foo\n",
      "          A    B\n",
      "6  1.193177  foo\n",
      "7  0.378040  foo\n",
      "8  1.586252  foo\n",
      "          A    B\n",
      "9 -1.180832  foo\n"
     ]
    }
   ],
   "source": [
    "for df in pd.read_csv('test.csv',chunksize=3,index_col=0):\n",
    "    print df"
   ]
  },
  {
   "cell_type": "code",
   "execution_count": 3,
   "metadata": {
    "collapsed": false
   },
   "outputs": [
    {
     "name": "stdout",
     "output_type": "stream",
     "text": [
      "          A    B\n",
      "0 -0.142653  foo\n",
      "1 -0.416891  foo\n",
      "2  0.445686  foo\n",
      "          A    B\n",
      "3  0.588488  foo\n",
      "4 -0.704668  foo\n",
      "5  0.765564  foo\n",
      "          A    B\n",
      "6  1.193177  foo\n",
      "7  0.378040  foo\n",
      "8  1.586252  foo\n",
      "          A    B\n",
      "9 -1.180832  foo\n"
     ]
    }
   ],
   "source": [
    "for df in pd.read_hdf('test.h5','df',chunksize=3):\n",
    "    print df"
   ]
  },
  {
   "cell_type": "code",
   "execution_count": null,
   "metadata": {
    "collapsed": true
   },
   "outputs": [],
   "source": []
  }
 ],
 "metadata": {
  "kernelspec": {
   "display_name": "Python 2",
   "language": "python",
   "name": "python2"
  },
  "language_info": {
   "codemirror_mode": {
    "name": "ipython",
    "version": 2
   },
   "file_extension": ".py",
   "mimetype": "text/x-python",
   "name": "python",
   "nbconvert_exporter": "python",
   "pygments_lexer": "ipython2",
   "version": "2.7.10"
  }
 },
 "nbformat": 4,
 "nbformat_minor": 0
}
