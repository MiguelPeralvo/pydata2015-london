{
 "cells": [
  {
   "cell_type": "markdown",
   "metadata": {},
   "source": [
    "# Iterators"
   ]
  },
  {
   "cell_type": "code",
   "execution_count": 1,
   "metadata": {
    "collapsed": true
   },
   "outputs": [],
   "source": [
    "df = DataFrame({'A' : np.random.randn(10), 'B' : 'foo'})\n",
    "df.to_csv('data/test_iterator.csv',mode='w')\n",
    "df.to_hdf('data/test_iterator.h5','df',mode='w',format='table')"
   ]
  },
  {
   "cell_type": "code",
   "execution_count": 2,
   "metadata": {
    "collapsed": false
   },
   "outputs": [
    {
     "name": "stdout",
     "output_type": "stream",
     "text": [
      "          A    B\n",
      "0  1.683380  foo\n",
      "1 -0.148922  foo\n",
      "2  0.959309  foo\n",
      "          A    B\n",
      "3  0.172445  foo\n",
      "4  1.278761  foo\n",
      "5  0.589097  foo\n",
      "          A    B\n",
      "6  0.144008  foo\n",
      "7  0.660421  foo\n",
      "8 -0.247844  foo\n",
      "          A    B\n",
      "9  1.137082  foo\n"
     ]
    }
   ],
   "source": [
    "for df in pd.read_csv('data/test_iterator.csv',chunksize=3,index_col=0):\n",
    "    print df"
   ]
  },
  {
   "cell_type": "code",
   "execution_count": 3,
   "metadata": {
    "collapsed": false
   },
   "outputs": [
    {
     "name": "stdout",
     "output_type": "stream",
     "text": [
      "          A    B\n",
      "0  1.683380  foo\n",
      "1 -0.148922  foo\n",
      "2  0.959309  foo\n",
      "          A    B\n",
      "3  0.172445  foo\n",
      "4  1.278761  foo\n",
      "5  0.589097  foo\n",
      "          A    B\n",
      "6  0.144008  foo\n",
      "7  0.660421  foo\n",
      "8 -0.247844  foo\n",
      "          A    B\n",
      "9  1.137082  foo\n"
     ]
    }
   ],
   "source": [
    "for df in pd.read_hdf('data/test_iterator.h5','df',chunksize=3):\n",
    "    print df"
   ]
  },
  {
   "cell_type": "code",
   "execution_count": null,
   "metadata": {
    "collapsed": true
   },
   "outputs": [],
   "source": []
  }
 ],
 "metadata": {
  "kernelspec": {
   "display_name": "Python 2",
   "language": "python",
   "name": "python2"
  },
  "language_info": {
   "codemirror_mode": {
    "name": "ipython",
    "version": 2
   },
   "file_extension": ".py",
   "mimetype": "text/x-python",
   "name": "python",
   "nbconvert_exporter": "python",
   "pygments_lexer": "ipython2",
   "version": "2.7.10"
  }
 },
 "nbformat": 4,
 "nbformat_minor": 0
}
