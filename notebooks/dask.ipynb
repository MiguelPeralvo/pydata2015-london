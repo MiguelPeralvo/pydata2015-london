{
 "cells": [
  {
   "cell_type": "markdown",
   "metadata": {},
   "source": [
    "dask example\n"
   ]
  },
  {
   "cell_type": "code",
   "execution_count": 29,
   "metadata": {
    "collapsed": true
   },
   "outputs": [],
   "source": [
    "import dask.dataframe as dd\n",
    "from dask import threaded, multiprocessing"
   ]
  },
  {
   "cell_type": "code",
   "execution_count": 30,
   "metadata": {
    "collapsed": false
   },
   "outputs": [
    {
     "data": {
      "text/plain": [
       "dd.DataFrame<from-array-5, divisions=(50000, 100000, 150000, ..., 900000, 950000)>"
      ]
     },
     "execution_count": 30,
     "metadata": {},
     "output_type": "execute_result"
    }
   ],
   "source": [
    "N = int(1e6)\n",
    "df = DataFrame({'key' : np.random.randint(0,1000,size=N), 'value' : np.random.randn(N)})\n",
    "recarray = df.to_records()\n",
    "ddf = dd.from_array(recarray)\n",
    "ddf"
   ]
  },
  {
   "cell_type": "code",
   "execution_count": 31,
   "metadata": {
    "collapsed": false
   },
   "outputs": [
    {
     "name": "stdout",
     "output_type": "stream",
     "text": [
      "10 loops, best of 3: 28.5 ms per loop\n"
     ]
    }
   ],
   "source": [
    "%timeit df.groupby('key').value.mean()"
   ]
  },
  {
   "cell_type": "code",
   "execution_count": 32,
   "metadata": {
    "collapsed": false
   },
   "outputs": [
    {
     "name": "stdout",
     "output_type": "stream",
     "text": [
      "10 loops, best of 3: 100 ms per loop\n"
     ]
    }
   ],
   "source": [
    "%timeit ddf.groupby('key').value.mean().compute()"
   ]
  },
  {
   "cell_type": "code",
   "execution_count": 33,
   "metadata": {
    "collapsed": false
   },
   "outputs": [
    {
     "name": "stdout",
     "output_type": "stream",
     "text": [
      "10 loops, best of 3: 121 ms per loop\n"
     ]
    }
   ],
   "source": [
    "%timeit ddf.groupby('key').value.mean().compute(get=threaded.get)"
   ]
  },
  {
   "cell_type": "code",
   "execution_count": 34,
   "metadata": {
    "collapsed": false
   },
   "outputs": [
    {
     "name": "stdout",
     "output_type": "stream",
     "text": [
      "1 loops, best of 3: 2.17 s per loop\n"
     ]
    }
   ],
   "source": [
    "%timeit ddf.groupby('key').value.mean().compute(get=multiprocessing.get)"
   ]
  },
  {
   "cell_type": "code",
   "execution_count": null,
   "metadata": {
    "collapsed": true
   },
   "outputs": [],
   "source": []
  }
 ],
 "metadata": {
  "kernelspec": {
   "display_name": "Python 2",
   "language": "python",
   "name": "python2"
  },
  "language_info": {
   "codemirror_mode": {
    "name": "ipython",
    "version": 2
   },
   "file_extension": ".py",
   "mimetype": "text/x-python",
   "name": "python",
   "nbconvert_exporter": "python",
   "pygments_lexer": "ipython2",
   "version": "2.7.10"
  }
 },
 "nbformat": 4,
 "nbformat_minor": 0
}
